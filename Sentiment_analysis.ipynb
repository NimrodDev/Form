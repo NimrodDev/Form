{
  "nbformat": 4,
  "nbformat_minor": 0,
  "metadata": {
    "colab": {
      "provenance": [],
      "authorship_tag": "ABX9TyODiQTMVHC0xE2xGH5RargU",
      "include_colab_link": true
    },
    "kernelspec": {
      "name": "python3",
      "display_name": "Python 3"
    },
    "language_info": {
      "name": "python"
    }
  },
  "cells": [
    {
      "cell_type": "markdown",
      "metadata": {
        "id": "view-in-github",
        "colab_type": "text"
      },
      "source": [
        "<a href=\"https://colab.research.google.com/github/NimrodDev/Form/blob/main/Sentiment_analysis.ipynb\" target=\"_parent\"><img src=\"https://colab.research.google.com/assets/colab-badge.svg\" alt=\"Open In Colab\"/></a>"
      ]
    },
    {
      "cell_type": "markdown",
      "source": [
        "**We Simply Import The Necessary Libraries. In This Case We Install 'Transformers' and also 'Emoji' For emoji Conversion **"
      ],
      "metadata": {
        "id": "ihHD6Pp8TSDL"
      }
    },
    {
      "cell_type": "code",
      "execution_count": 2,
      "metadata": {
        "id": "lquihX29HUXQ"
      },
      "outputs": [],
      "source": [
        "!pip install -q transformers"
      ]
    },
    {
      "cell_type": "code",
      "source": [
        "!pip install emoji==0.6.0"
      ],
      "metadata": {
        "colab": {
          "base_uri": "https://localhost:8080/"
        },
        "id": "wIcoBM5VOVob",
        "outputId": "055c3b1b-b1fd-4196-f3ba-dec739b2925a"
      },
      "execution_count": 11,
      "outputs": [
        {
          "output_type": "stream",
          "name": "stdout",
          "text": [
            "Collecting emoji==0.6.0\n",
            "  Downloading emoji-0.6.0.tar.gz (51 kB)\n",
            "\u001b[2K     \u001b[90m━━━━━━━━━━━━━━━━━━━━━━━━━━━━━━━━━━━━━━━━\u001b[0m \u001b[32m51.0/51.0 kB\u001b[0m \u001b[31m825.4 kB/s\u001b[0m eta \u001b[36m0:00:00\u001b[0m\n",
            "\u001b[?25h  Preparing metadata (setup.py) ... \u001b[?25l\u001b[?25hdone\n",
            "Building wheels for collected packages: emoji\n",
            "  Building wheel for emoji (setup.py) ... \u001b[?25l\u001b[?25hdone\n",
            "  Created wheel for emoji: filename=emoji-0.6.0-py3-none-any.whl size=49720 sha256=fc005422cde92f9a49dd6dc02bfc27543ad231dbe144b1d31887be16d89ca185\n",
            "  Stored in directory: /root/.cache/pip/wheels/1b/bd/d9/310c33c45a553798a714e27e3b8395d37128425442b8c78e07\n",
            "Successfully built emoji\n",
            "Installing collected packages: emoji\n",
            "Successfully installed emoji-0.6.0\n"
          ]
        }
      ]
    },
    {
      "cell_type": "markdown",
      "source": [
        "**RUN SENTIMENT ANALYSIS PREDICTIONS USING PIPELINE**"
      ],
      "metadata": {
        "id": "wZXfYvSWJMiu"
      }
    },
    {
      "cell_type": "code",
      "source": [
        "from transformers import pipeline\n",
        "import emoji\n",
        "# Handling the model selection explicitly\n",
        "# Define mapping dictionary for the first pipeline\n",
        "label_mapping = {\n",
        "    \"LABEL_1\": \"positive\",\n",
        "    \"LABEL_2\": \"negative\",\n",
        "    \"LABEL_3\": \"neutral\",\n",
        "    # Add more labels as needed\n",
        "}\n",
        "\n",
        "# Function to convert labels for the first pipeline\n",
        "def convert_labels(result):\n",
        "    label = result[\"label\"]\n",
        "    if label in label_mapping:\n",
        "        result[\"label\"] = label_mapping[label]\n",
        "    return result\n",
        "# Create sentiment analysis pipelines\n",
        "sentiment_pipeline = pipeline(\"sentiment-analysis\")\n",
        "specific_model = pipeline(model=\"finiteautomata/bertweet-base-sentiment-analysis\")\n",
        "\n",
        "data = [\"I love you😍 i will never love you less\", \"I hate you,there is really no doubt about it😒😒😒\", \"The news is really exciting👌👌 The sportsman were playing really well!\", \"I don't know if i am happy or sad😶\"]\n",
        "sentiment_pipeline(data)"
      ],
      "metadata": {
        "colab": {
          "base_uri": "https://localhost:8080/"
        },
        "id": "qkgO0hkeJG4h",
        "outputId": "c1cc97d0-69a5-45b5-b7f7-85ea559b293e"
      },
      "execution_count": 18,
      "outputs": [
        {
          "output_type": "stream",
          "name": "stderr",
          "text": [
            "No model was supplied, defaulted to distilbert/distilbert-base-uncased-finetuned-sst-2-english and revision af0f99b (https://huggingface.co/distilbert/distilbert-base-uncased-finetuned-sst-2-english).\n",
            "Using a pipeline without specifying a model name and revision in production is not recommended.\n"
          ]
        },
        {
          "output_type": "execute_result",
          "data": {
            "text/plain": [
              "[{'label': 'POSITIVE', 'score': 0.9995713829994202},\n",
              " {'label': 'NEGATIVE', 'score': 0.9775089025497437},\n",
              " {'label': 'POSITIVE', 'score': 0.9984026551246643},\n",
              " {'label': 'NEGATIVE', 'score': 0.9990265369415283}]"
            ]
          },
          "metadata": {},
          "execution_count": 18
        }
      ]
    },
    {
      "cell_type": "markdown",
      "source": [
        "**Use a specific sentiment analysis model available on Hub by specifying its name**"
      ],
      "metadata": {
        "id": "NXezjaLEKPj-"
      }
    },
    {
      "cell_type": "code",
      "source": [
        "# Performing sentiment analysis with the sentiment_pipeline\n",
        "print(\"Sentiment analysis with distilbert-base-uncased model:\")  # Print a header indicating the model being used\n",
        "for i, result in enumerate(sentiment_pipeline(data)):  # Iterate over the sentiment analysis results from sentiment_pipeline\n",
        "    print(f\"Sentence: {data[i]}\")  # Print the input sentence for the current result\n",
        "    print(f\"Sentiment: {result['label']} (Score: {result['score']:.4f})\")  # Print the sentiment label and score for the current result\n",
        "    print()  # Print a newline character to separate the output for each input sentence\n",
        "\n",
        "# Performing sentiment analysis with the specific_model\n",
        "print(\"Sentiment analysis with finiteautomata/bertweet-base-sentiment-analysis model:\")  # Print a header indicating the model being used\n",
        "for i, result in enumerate(specific_model(data)):  # Iterate over the sentiment analysis results from specific_model\n",
        "    print(f\"Sentence: {data[i]}\")  # Print the input sentence for the current result\n",
        "    print(f\"Sentiment: {result['label']} (Score: {result['score']:.4f})\")  # Print the sentiment label and score for the current result\n",
        "    print()  # Print a newline character to separate the output for each input sentence\n"
      ],
      "metadata": {
        "colab": {
          "base_uri": "https://localhost:8080/"
        },
        "id": "g6mmrUxYKdi4",
        "outputId": "c00b8889-c183-4384-908f-59e27be84acc"
      },
      "execution_count": 19,
      "outputs": [
        {
          "output_type": "stream",
          "name": "stdout",
          "text": [
            "Sentiment analysis with distilbert-base-uncased model:\n",
            "Sentence: I love you😍 i will never love you less\n",
            "Sentiment: POSITIVE (Score: 0.9996)\n",
            "\n",
            "Sentence: I hate you,there is really no doubt about it😒😒😒\n",
            "Sentiment: NEGATIVE (Score: 0.9775)\n",
            "\n",
            "Sentence: The news is really exciting👌👌 The sportsman were playing really well!\n",
            "Sentiment: POSITIVE (Score: 0.9984)\n",
            "\n",
            "Sentence: I don't know if i am happy or sad😶\n",
            "Sentiment: NEGATIVE (Score: 0.9990)\n",
            "\n",
            "Sentiment analysis with finiteautomata/bertweet-base-sentiment-analysis model:\n",
            "Sentence: I love you😍 i will never love you less\n",
            "Sentiment: POS (Score: 0.9912)\n",
            "\n",
            "Sentence: I hate you,there is really no doubt about it😒😒😒\n",
            "Sentiment: NEG (Score: 0.9817)\n",
            "\n",
            "Sentence: The news is really exciting👌👌 The sportsman were playing really well!\n",
            "Sentiment: POS (Score: 0.9923)\n",
            "\n",
            "Sentence: I don't know if i am happy or sad😶\n",
            "Sentiment: NEG (Score: 0.6223)\n",
            "\n"
          ]
        }
      ]
    }
  ]
}